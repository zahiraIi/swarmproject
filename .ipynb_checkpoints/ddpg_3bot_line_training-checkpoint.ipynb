{
 "cells": [
  {
   "cell_type": "markdown",
   "id": "9b2b8327",
   "metadata": {},
   "source": [
    "# 🧠 DDPG Training: 3-Bot Line Formation\n",
    "We train a DDPG agent to control 3 spinning bots to maintain alignment in a straight line. The custom environment handles physical dynamics and returns rewards based on how collinear the bots remain."
   ]
  },
  {
   "cell_type": "code",
   "execution_count": 1,
   "id": "777cd582",
   "metadata": {},
   "outputs": [],
   "source": [
    "import gymnasium as gym\n",
    "import numpy as np\n",
    "import matplotlib.pyplot as plt\n",
    "\n",
    "from stable_baselines3 import DDPG\n",
    "from stable_baselines3.common.noise import NormalActionNoise\n",
    "from stable_baselines3.common.vec_env import DummyVecEnv\n",
    "from stable_baselines3.common.env_checker import check_env\n",
    "\n",
    "from multibot_cluster_env import MultiBotClusterEnv"
   ]
  },
  {
   "cell_type": "markdown",
   "id": "edea7284",
   "metadata": {},
   "source": [
    "## ✅ Initialize Environment\n",
    "We use a task-specific setup: `task='line'` to encourage bots to align."
   ]
  },
  {
   "cell_type": "code",
   "execution_count": 2,
   "id": "00404eec",
   "metadata": {
    "scrolled": true
   },
   "outputs": [
    {
     "name": "stderr",
     "output_type": "stream",
     "text": [
      "/opt/anaconda3/envs/rl-bots/lib/python3.10/site-packages/stable_baselines3/common/env_checker.py:462: UserWarning: We recommend you to use a symmetric and normalized Box action space (range=[-1, 1]) cf. https://stable-baselines3.readthedocs.io/en/master/guide/rl_tips.html\n",
      "  warnings.warn(\n"
     ]
    }
   ],
   "source": [
    "env_raw = MultiBotClusterEnv(num_bots=3, task='line')\n",
    "check_env(env_raw)\n",
    "env = DummyVecEnv([lambda: env_raw])"
   ]
  },
  {
   "cell_type": "markdown",
   "id": "6f0f3baa",
   "metadata": {},
   "source": [
    "## ⚙️ DDPG Agent Setup with Action Noise\n",
    "To help exploration, we inject Gaussian noise into the actions."
   ]
  },
  {
   "cell_type": "code",
   "execution_count": 3,
   "id": "f26b71be",
   "metadata": {},
   "outputs": [
    {
     "name": "stdout",
     "output_type": "stream",
     "text": [
      "Using cpu device\n"
     ]
    }
   ],
   "source": [
    "n_actions = env.action_space.shape[-1]\n",
    "action_noise = NormalActionNoise(mean=np.zeros(n_actions), sigma=0.1 * np.ones(n_actions))\n",
    "\n",
    "model = DDPG(\n",
    "    policy=\"MlpPolicy\",\n",
    "    env=env,\n",
    "    action_noise=action_noise,\n",
    "    verbose=1,\n",
    "    tensorboard_log=\"./ddpg_tensorboard/\"\n",
    ")"
   ]
  },
  {
   "cell_type": "markdown",
   "id": "8fe0b43e",
   "metadata": {},
   "source": [
    "## 🚀 Training the Agent"
   ]
  },
  {
   "cell_type": "code",
   "execution_count": 4,
   "id": "1449842c",
   "metadata": {},
   "outputs": [
    {
     "name": "stdout",
     "output_type": "stream",
     "text": [
      "Logging to ./ddpg_tensorboard/DDPG_1\n",
      "---------------------------------\n",
      "| time/              |          |\n",
      "|    episodes        | 4        |\n",
      "|    fps             | 268      |\n",
      "|    time_elapsed    | 2        |\n",
      "|    total_timesteps | 800      |\n",
      "| train/             |          |\n",
      "|    actor_loss      | 0.631    |\n",
      "|    critic_loss     | 9.21e-05 |\n",
      "|    learning_rate   | 0.001    |\n",
      "|    n_updates       | 699      |\n",
      "---------------------------------\n",
      "---------------------------------\n",
      "| time/              |          |\n",
      "|    episodes        | 8        |\n",
      "|    fps             | 258      |\n",
      "|    time_elapsed    | 6        |\n",
      "|    total_timesteps | 1600     |\n",
      "| train/             |          |\n",
      "|    actor_loss      | 0.965    |\n",
      "|    critic_loss     | 9.18e-05 |\n",
      "|    learning_rate   | 0.001    |\n",
      "|    n_updates       | 1499     |\n",
      "---------------------------------\n",
      "---------------------------------\n",
      "| time/              |          |\n",
      "|    episodes        | 12       |\n",
      "|    fps             | 256      |\n",
      "|    time_elapsed    | 9        |\n",
      "|    total_timesteps | 2400     |\n",
      "| train/             |          |\n",
      "|    actor_loss      | 1.51     |\n",
      "|    critic_loss     | 0.000102 |\n",
      "|    learning_rate   | 0.001    |\n",
      "|    n_updates       | 2299     |\n",
      "---------------------------------\n",
      "---------------------------------\n",
      "| time/              |          |\n",
      "|    episodes        | 16       |\n",
      "|    fps             | 253      |\n",
      "|    time_elapsed    | 12       |\n",
      "|    total_timesteps | 3200     |\n",
      "| train/             |          |\n",
      "|    actor_loss      | 2.18     |\n",
      "|    critic_loss     | 0.000116 |\n",
      "|    learning_rate   | 0.001    |\n",
      "|    n_updates       | 3099     |\n",
      "---------------------------------\n",
      "---------------------------------\n",
      "| time/              |          |\n",
      "|    episodes        | 20       |\n",
      "|    fps             | 252      |\n",
      "|    time_elapsed    | 15       |\n",
      "|    total_timesteps | 4000     |\n",
      "| train/             |          |\n",
      "|    actor_loss      | 2.19     |\n",
      "|    critic_loss     | 0.000117 |\n",
      "|    learning_rate   | 0.001    |\n",
      "|    n_updates       | 3899     |\n",
      "---------------------------------\n",
      "---------------------------------\n",
      "| time/              |          |\n",
      "|    episodes        | 24       |\n",
      "|    fps             | 250      |\n",
      "|    time_elapsed    | 19       |\n",
      "|    total_timesteps | 4800     |\n",
      "| train/             |          |\n",
      "|    actor_loss      | 2.43     |\n",
      "|    critic_loss     | 0.000136 |\n",
      "|    learning_rate   | 0.001    |\n",
      "|    n_updates       | 4699     |\n",
      "---------------------------------\n",
      "---------------------------------\n",
      "| time/              |          |\n",
      "|    episodes        | 28       |\n",
      "|    fps             | 249      |\n",
      "|    time_elapsed    | 22       |\n",
      "|    total_timesteps | 5600     |\n",
      "| train/             |          |\n",
      "|    actor_loss      | 2.81     |\n",
      "|    critic_loss     | 0.000627 |\n",
      "|    learning_rate   | 0.001    |\n",
      "|    n_updates       | 5499     |\n",
      "---------------------------------\n",
      "---------------------------------\n",
      "| time/              |          |\n",
      "|    episodes        | 32       |\n",
      "|    fps             | 249      |\n",
      "|    time_elapsed    | 25       |\n",
      "|    total_timesteps | 6400     |\n",
      "| train/             |          |\n",
      "|    actor_loss      | 2.48     |\n",
      "|    critic_loss     | 0.000281 |\n",
      "|    learning_rate   | 0.001    |\n",
      "|    n_updates       | 6299     |\n",
      "---------------------------------\n",
      "---------------------------------\n",
      "| time/              |          |\n",
      "|    episodes        | 36       |\n",
      "|    fps             | 249      |\n",
      "|    time_elapsed    | 28       |\n",
      "|    total_timesteps | 7200     |\n",
      "| train/             |          |\n",
      "|    actor_loss      | 2.69     |\n",
      "|    critic_loss     | 0.00048  |\n",
      "|    learning_rate   | 0.001    |\n",
      "|    n_updates       | 7099     |\n",
      "---------------------------------\n",
      "---------------------------------\n",
      "| time/              |          |\n",
      "|    episodes        | 40       |\n",
      "|    fps             | 249      |\n",
      "|    time_elapsed    | 32       |\n",
      "|    total_timesteps | 8000     |\n",
      "| train/             |          |\n",
      "|    actor_loss      | 2.58     |\n",
      "|    critic_loss     | 0.000651 |\n",
      "|    learning_rate   | 0.001    |\n",
      "|    n_updates       | 7899     |\n",
      "---------------------------------\n",
      "---------------------------------\n",
      "| time/              |          |\n",
      "|    episodes        | 44       |\n",
      "|    fps             | 249      |\n",
      "|    time_elapsed    | 35       |\n",
      "|    total_timesteps | 8800     |\n",
      "| train/             |          |\n",
      "|    actor_loss      | 2.82     |\n",
      "|    critic_loss     | 0.000795 |\n",
      "|    learning_rate   | 0.001    |\n",
      "|    n_updates       | 8699     |\n",
      "---------------------------------\n",
      "---------------------------------\n",
      "| time/              |          |\n",
      "|    episodes        | 48       |\n",
      "|    fps             | 249      |\n",
      "|    time_elapsed    | 38       |\n",
      "|    total_timesteps | 9600     |\n",
      "| train/             |          |\n",
      "|    actor_loss      | 2.67     |\n",
      "|    critic_loss     | 0.00131  |\n",
      "|    learning_rate   | 0.001    |\n",
      "|    n_updates       | 9499     |\n",
      "---------------------------------\n"
     ]
    }
   ],
   "source": [
    "model.learn(total_timesteps=10000)\n",
    "model.save(\"ddpg_line_bot\")"
   ]
  },
  {
   "cell_type": "markdown",
   "id": "3092a0a8",
   "metadata": {},
   "source": [
    "## 📊 Evaluate Trained Policy"
   ]
  },
  {
   "cell_type": "code",
   "execution_count": 7,
   "id": "fc8fafd7",
   "metadata": {},
   "outputs": [],
   "source": [
    "from stable_baselines3 import DDPG\n",
    "\n",
    "# Load the trained model\n",
    "model = DDPG.load(\"ddpg_line_bot\")\n",
    "\n",
    "# Unwrap the VecEnv to access the raw Gymnasium environment\n",
    "env_eval = env.envs[0]\n",
    "\n",
    "# Gymnasium reset returns (obs, info)\n",
    "obs, _ = env_eval.reset()\n",
    "trajectory = []\n",
    "\n",
    "for _ in range(2000):\n",
    "    action, _ = model.predict(obs, deterministic=True)\n",
    "\n",
    "    # Gymnasium step returns (obs, reward, terminated, truncated, info)\n",
    "    obs, reward, terminated, truncated, _ = env_eval.step(action)\n",
    "    \n",
    "    trajectory.append(env_eval.state.reshape(3, 2))\n",
    "\n",
    "    if terminated or truncated:\n",
    "        break\n",
    "\n",
    "trajectory = np.array(trajectory)"
   ]
  },
  {
   "cell_type": "markdown",
   "id": "57a1efd1",
   "metadata": {},
   "source": [
    "## 📈 Plot Bot Trajectories"
   ]
  },
  {
   "cell_type": "code",
   "execution_count": 8,
   "id": "84c231c9",
   "metadata": {},
   "outputs": [
    {
     "data": {
      "image/png": "[encoded data removed]",
      "text/plain": [
       "<Figure size 600x600 with 1 Axes>"
      ]
     },
     "metadata": {},
     "output_type": "display_data"
    }
   ],
   "source": [
    "fig, ax = plt.subplots(figsize=(6, 6))\n",
    "for i in range(3):\n",
    "    ax.plot(trajectory[:, i, 0], trajectory[:, i, 1], label=f\"Bot {i+1}\")\n",
    "    ax.plot(trajectory[0, i, 0], trajectory[0, i, 1], 'o', alpha=0.5)\n",
    "    ax.plot(trajectory[-1, i, 0], trajectory[-1, i, 1], 'x', alpha=0.8)\n",
    "\n",
    "ax.set_aspect('equal')\n",
    "ax.set_xlabel('x')\n",
    "ax.set_ylabel('y')\n",
    "ax.set_title('DDPG-trained line formation')\n",
    "ax.legend()\n",
    "ax.grid(True)\n",
    "plt.show()"
   ]
  },
  {
   "cell_type": "markdown",
   "id": "37903303",
   "metadata": {},
   "source": [
    "## ✅ Next Steps\n",
    "- Try `task='translate'` or `task='shape'`\n",
    "- Compare DDPG with SAC or TD3\n",
    "- Log metrics and evaluate performance curves\n",
    "- Increase number of bots and experiment with curriculum learning"
   ]
  }
 ],
 "metadata": {
  "kernelspec": {
   "display_name": "Python 3 (ipykernel)",
   "language": "python",
   "name": "python3"
  },
  "language_info": {
   "codemirror_mode": {
    "name": "ipython",
    "version": 3
   },
   "file_extension": ".py",
   "mimetype": "text/x-python",
   "name": "python",
   "nbconvert_exporter": "python",
   "pygments_lexer": "ipython3",
   "version": "3.10.13"
  }
 },
 "nbformat": 4,
 "nbformat_minor": 5
}
